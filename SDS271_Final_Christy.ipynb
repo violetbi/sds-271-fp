{
 "cells": [
  {
   "cell_type": "code",
   "execution_count": 40,
   "id": "dfa3edd9",
   "metadata": {},
   "outputs": [],
   "source": [
    "import pandas as pd\n",
    "import geopandas as gpd\n",
    "from ipyleaflet import Map, Choropleth, GeoData, LayersControl\n",
    "import json\n",
    "import branca.colormap\n",
    "from ipywidgets import widgets"
   ]
  },
  {
   "cell_type": "code",
   "execution_count": 41,
   "id": "37f0a615",
   "metadata": {},
   "outputs": [
    {
     "name": "stderr",
     "output_type": "stream",
     "text": [
      "/var/folders/c7/3m3qgb0159vdypb8y1c07wbw0000gn/T/ipykernel_26457/2596769627.py:9: FutureWarning: The geopandas.dataset module is deprecated and will be removed in GeoPandas 1.0. You can get the original 'naturalearth_lowres' data from https://www.naturalearthdata.com/downloads/110m-cultural-vectors/.\n",
      "  world = gpd.read_file(gpd.datasets.get_path('naturalearth_lowres'))\n"
     ]
    },
    {
     "data": {
      "application/vnd.jupyter.widget-view+json": {
       "model_id": "906fe504214443c391d0a81a8714f61c",
       "version_major": 2,
       "version_minor": 0
      },
      "text/plain": [
       "Map(center=[20, 0], controls=(ZoomControl(options=['position', 'zoom_in_text', 'zoom_in_title', 'zoom_out_text…"
      ]
     },
     "metadata": {},
     "output_type": "display_data"
    }
   ],
   "source": [
    "# Load your life expectancy data\n",
    "life_expectancy_data = pd.read_csv(\"HALElifeExpectancyAtBirth.csv\")\n",
    "life_expectancy_data.rename(columns={'Dim1': 'Sex', 'First Tooltip': 'Life_exp'}, inplace=True)\n",
    "\n",
    "# Filter for the year 2019 and 'Both sexes'\n",
    "data_2019 = life_expectancy_data[(life_expectancy_data['Period'] == 2019) & (life_expectancy_data['Sex'] == 'Both sexes')]\n",
    "\n",
    "# Load a GeoDataFrame with country boundaries\n",
    "world = gpd.read_file(gpd.datasets.get_path('naturalearth_lowres'))\n",
    "\n",
    "# Merge the life expectancy data with the GeoDataFrame\n",
    "merged = world.set_index('name').join(data_2019.set_index('Location'))\n",
    "#inspect merged dataset\n",
    "#print(list(set(merged['Sex'])))\n",
    "\n",
    "# Define the color scale\n",
    "color_scale = branca.colormap.linear.YlOrRd_09.scale(merged.Life_exp.min(), merged.Life_exp.max())\n",
    "\n",
    "# Create a Choropleth layer\n",
    "choro_layer = Choropleth(\n",
    "    geo_data=merged.__geo_interface__,\n",
    "    choro_data=dict(merged['Life_exp']),\n",
    "    colormap=color_scale,\n",
    "    style={'fillOpacity': 0.8, 'dashArray': '5, 5'}\n",
    ")\n",
    "\n",
    "# Create the map and add the layer\n",
    "m = Map(center=(20, 0), zoom=2)\n",
    "m.add_layer(choro_layer)\n",
    "\n",
    "# Display the map\n",
    "m\n"
   ]
  }
 ],
 "metadata": {
  "kernelspec": {
   "display_name": "Python 3 (ipykernel)",
   "language": "python",
   "name": "python3"
  },
  "language_info": {
   "codemirror_mode": {
    "name": "ipython",
    "version": 3
   },
   "file_extension": ".py",
   "mimetype": "text/x-python",
   "name": "python",
   "nbconvert_exporter": "python",
   "pygments_lexer": "ipython3",
   "version": "3.9.12"
  }
 },
 "nbformat": 4,
 "nbformat_minor": 5
}
